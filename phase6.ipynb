{
 "cells": [
  {
   "cell_type": "code",
   "execution_count": 1,
   "id": "d8ba2ab9",
   "metadata": {},
   "outputs": [],
   "source": [
    "import numpy as np"
   ]
  },
  {
   "cell_type": "markdown",
   "id": "032943dd",
   "metadata": {},
   "source": [
    "## Price Calculation"
   ]
  },
  {
   "cell_type": "code",
   "execution_count": 4,
   "id": "65af3fb7",
   "metadata": {},
   "outputs": [
    {
     "name": "stdout",
     "output_type": "stream",
     "text": [
      "final_price:  [90.0, 180.0, 270.0]\n"
     ]
    }
   ],
   "source": [
    "prices=[100,200,300]\n",
    "final_price=[]\n",
    "discount=10\n",
    "for price in prices:\n",
    "    final_price.append(price - (price * discount / 100))\n",
    "\n",
    "print(\"final_price: \",final_price)\n"
   ]
  },
  {
   "cell_type": "markdown",
   "id": "d9680df0",
   "metadata": {},
   "source": [
    "## using Numpy"
   ]
  },
  {
   "cell_type": "code",
   "execution_count": 6,
   "id": "8e1c7ce1",
   "metadata": {},
   "outputs": [
    {
     "name": "stdout",
     "output_type": "stream",
     "text": [
      "[  90000.  180000. 2700000.]\n"
     ]
    }
   ],
   "source": [
    "prices=np.array([100000,200000,3000000])\n",
    "discount=10\n",
    "final_price=prices-(prices*discount/100)\n",
    "print(final_price)"
   ]
  },
  {
   "cell_type": "markdown",
   "id": "0c648be5",
   "metadata": {},
   "source": [
    "## using matrix"
   ]
  },
  {
   "cell_type": "code",
   "execution_count": null,
   "id": "6330ec47",
   "metadata": {},
   "outputs": [
    {
     "name": "stdout",
     "output_type": "stream",
     "text": [
      "[[ 2  4  6  8]\n",
      " [ 6  8 10 12]]\n"
     ]
    }
   ],
   "source": [
    "array=np.array([[1,2,3,4],\n",
    "                [5,6,7,8]])\n",
    "\n",
    "vector=np.array([1,2,3,4])\n",
    "\n",
    "add=array+vector\n",
    "\n",
    "print(add)"
   ]
  },
  {
   "cell_type": "markdown",
   "id": "31074be6",
   "metadata": {},
   "source": [
    "## Multiplication\n"
   ]
  },
  {
   "cell_type": "code",
   "execution_count": 9,
   "id": "fd1beade",
   "metadata": {},
   "outputs": [
    {
     "name": "stdout",
     "output_type": "stream",
     "text": [
      "[[ 1  4  9 16]\n",
      " [ 5 12 21 32]]\n"
     ]
    }
   ],
   "source": [
    "array=np.array([[1,2,3,4],\n",
    "                [5,6,7,8]])\n",
    "\n",
    "vector=np.array([1,2,3,4])\n",
    "\n",
    "add=array*vector\n",
    "\n",
    "print(add)"
   ]
  },
  {
   "cell_type": "markdown",
   "id": "cc934cdf",
   "metadata": {},
   "source": [
    "## dot product\n"
   ]
  },
  {
   "cell_type": "code",
   "execution_count": 11,
   "id": "e2cab1ba",
   "metadata": {},
   "outputs": [
    {
     "name": "stdout",
     "output_type": "stream",
     "text": [
      "[30 70]\n"
     ]
    }
   ],
   "source": [
    "array=np.array([[1,2,3,4],\n",
    "                [5,6,7,8]])\n",
    "\n",
    "vector=np.array([1,2,3,4])\n",
    "\n",
    "add = np.dot(array, vector)\n",
    "\n",
    "print(add)"
   ]
  },
  {
   "cell_type": "markdown",
   "id": "7825331a",
   "metadata": {},
   "source": [
    "## cross product"
   ]
  },
  {
   "cell_type": "code",
   "execution_count": 14,
   "id": "6f13b6a9",
   "metadata": {},
   "outputs": [
    {
     "name": "stdout",
     "output_type": "stream",
     "text": [
      "Cross product: [-3  6 -3]\n"
     ]
    }
   ],
   "source": [
    "a = np.array([1, 2, 3])\n",
    "b = np.array([4, 5, 6])\n",
    "\n",
    "# Compute the cross product\n",
    "cross_product = np.cross(a, b)\n",
    "\n",
    "print(\"Cross product:\", cross_product)"
   ]
  }
 ],
 "metadata": {
  "kernelspec": {
   "display_name": "venv",
   "language": "python",
   "name": "python3"
  },
  "language_info": {
   "codemirror_mode": {
    "name": "ipython",
    "version": 3
   },
   "file_extension": ".py",
   "mimetype": "text/x-python",
   "name": "python",
   "nbconvert_exporter": "python",
   "pygments_lexer": "ipython3",
   "version": "3.12.1"
  }
 },
 "nbformat": 4,
 "nbformat_minor": 5
}
