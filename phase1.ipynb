{
 "cells": [
  {
   "cell_type": "markdown",
   "id": "1e7b23fc",
   "metadata": {},
   "source": [
    "## Numpy array and basics\n",
    "learn about chai aur code"
   ]
  },
  {
   "cell_type": "code",
   "execution_count": 3,
   "id": "f86dab74",
   "metadata": {},
   "outputs": [],
   "source": [
    "import numpy as np"
   ]
  },
  {
   "cell_type": "code",
   "execution_count": 4,
   "id": "e279a2e9",
   "metadata": {},
   "outputs": [
    {
     "name": "stdout",
     "output_type": "stream",
     "text": [
      "1D array: [1 2 3 4 5]\n",
      "2Darray: [[1 2 3]\n",
      " [4 5 6]]\n"
     ]
    }
   ],
   "source": [
    "arr_id=np.array([1,2,3,4,5])\n",
    "print(\"1D array:\",arr_id)\n",
    "\n",
    "arr_2d=np.array([[1,2,3],[4,5,6]])\n",
    "print(\"2Darray:\",arr_2d)"
   ]
  },
  {
   "cell_type": "markdown",
   "id": "99e56a59",
   "metadata": {},
   "source": [
    "### List vs numpy array\n"
   ]
  },
  {
   "cell_type": "code",
   "execution_count": 5,
   "id": "416174c2",
   "metadata": {},
   "outputs": [
    {
     "name": "stdout",
     "output_type": "stream",
     "text": [
      "python list multiplication [1, 2, 3, 1, 2, 3]\n",
      "numpy array multiplication [2 4 6]\n",
      "\n",
      " List operation time: 0.048795461654663086\n",
      "\n",
      " List operation time: 0.00205230712890625\n"
     ]
    }
   ],
   "source": [
    "pylist=[1,2,3]\n",
    "print(\"python list multiplication\", pylist*2)\n",
    "\n",
    "np_array=np.array([1,2,3]) #element wise multiplication\n",
    "print(\"numpy array multiplication\", np_array*2)\n",
    "\n",
    "\n",
    "import time \n",
    "start=time.time()\n",
    "py_list=[i*2 for i in range(1000000)]\n",
    "\n",
    "print(\"\\n List operation time:\", time.time()-start)\n",
    "start=time.time()\n",
    "np_array=np.arange(1000000)*2\n",
    "print(\"\\n List operation time:\", time.time()-start)"
   ]
  },
  {
   "cell_type": "markdown",
   "id": "48c115ec",
   "metadata": {},
   "source": [
    "creating array from scratch\n"
   ]
  },
  {
   "cell_type": "code",
   "execution_count": 6,
   "id": "5e27f965",
   "metadata": {},
   "outputs": [
    {
     "name": "stdout",
     "output_type": "stream",
     "text": [
      "zeroes array--\n",
      " [[0. 0. 0. 0.]\n",
      " [0. 0. 0. 0.]\n",
      " [0. 0. 0. 0.]]\n",
      "ones array--\n",
      " [[1. 1. 1.]\n",
      " [1. 1. 1.]]\n",
      "full array--\n",
      " [[7 7]\n",
      " [7 7]]\n",
      "full array:\n",
      " [[7 7 7 7]\n",
      " [7 7 7 7]\n",
      " [7 7 7 7]]\n",
      "random array:\n",
      " [[0.27909986 0.63181965 0.44096199]\n",
      " [0.28699158 0.49007387 0.3376383 ]]\n",
      "sequence array:\n",
      " [0 2 4 6 8]\n"
     ]
    }
   ],
   "source": [
    "zeroes=np.zeros((3,4))\n",
    "print(\"zeroes array--\\n\",zeroes)\n",
    "\n",
    "ones=np.ones((2,3))\n",
    "print(\"ones array--\\n\",ones)\n",
    "\n",
    "full = np.full((2,2),7)\n",
    "print(\"full array--\\n\",full)\n",
    "\n",
    "two=np.full((3,4),7) #when you use full function you can create any array with any value\n",
    "print(\"full array:\\n\",two)\n",
    "\n",
    "random=np.random.random((2,3)) # random means 0,1 thats type of value\n",
    "print(\"random array:\\n\",random)\n",
    "\n",
    "sequence = np.arange(0,10,2)\n",
    "print(\"sequence array:\\n\",sequence)# print 0-10 space 2"
   ]
  },
  {
   "cell_type": "markdown",
   "id": "eabe09a6",
   "metadata": {},
   "source": [
    "### Vector,Matrix and Tensor"
   ]
  },
  {
   "cell_type": "code",
   "execution_count": null,
   "id": "cc50ed95",
   "metadata": {},
   "outputs": [
    {
     "name": "stdout",
     "output_type": "stream",
     "text": [
      "vector:\n",
      " [1 2 3]\n",
      "Matrix: \n",
      " [[1 2 3]\n",
      " [4 5 6]]\n",
      "Tensor:\n",
      " [[[1 2]\n",
      "  [3 4]]\n",
      "\n",
      " [[5 6]\n",
      "  [7 8]]]\n"
     ]
    }
   ],
   "source": [
    "vector=np.array([1,2,3])\n",
    "print(\"vector:\\n\", vector)\n",
    "\n",
    "\n",
    "matrix = np.array([[1,2,3],[4,5,6]])\n",
    "print(\"Matrix: \\n\",matrix)\n",
    "\n",
    "tensor=np.array([[[1,2],[3,4]],[[5,6],[7,8]]])# when up 2D matrix then you call tensor means 3D matrix\n",
    "print(\"Tensor:\\n\", tensor)"
   ]
  },
  {
   "cell_type": "markdown",
   "id": "aa543a81",
   "metadata": {},
   "source": [
    "### Array Propertyes\n"
   ]
  },
  {
   "cell_type": "code",
   "execution_count": 11,
   "id": "cd313352",
   "metadata": {},
   "outputs": [
    {
     "name": "stdout",
     "output_type": "stream",
     "text": [
      "shape of array: (2, 3)\n",
      "dimension of array: 2\n",
      "size of array: 6\n",
      "data type of array: int64\n"
     ]
    }
   ],
   "source": [
    "arr=np.array([[1,2,3],[4,5,9]])# if any element like 6.8 then the array is float\n",
    "\n",
    "print(\"shape of array:\", arr.shape) # shape means how many rows and columns in the array\n",
    "print(\"dimension of array:\", arr.ndim) # dimension means how many dimension in the array\n",
    "print(\"size of array:\", arr.size) # size means how many elements in the array\n",
    "print(\"data type of array:\", arr.dtype) # data type means which type of data in the array"
   ]
  },
  {
   "cell_type": "markdown",
   "id": "a5482573",
   "metadata": {},
   "source": [
    "### Array Reshaping\n"
   ]
  },
  {
   "cell_type": "code",
   "execution_count": 18,
   "id": "a6b831d4",
   "metadata": {},
   "outputs": [
    {
     "name": "stdout",
     "output_type": "stream",
     "text": [
      "arange array: [ 0  1  2  3  4  5  6  7  8  9 10 11]\n",
      "\n",
      "reshaped array:\n",
      " [[ 0  1  2  3]\n",
      " [ 4  5  6  7]\n",
      " [ 8  9 10 11]]\n",
      "\n",
      "flattened array:\n",
      " [ 0  1  2  3  4  5  6  7  8  9 10 11]\n",
      "\n",
      "raveled array:\n",
      " [ 0  1  2  3  4  5  6  7  8  9 10 11]\n",
      "transpose array:\n",
      " [[ 0  4  8]\n",
      " [ 1  5  9]\n",
      " [ 2  6 10]\n",
      " [ 3  7 11]]\n"
     ]
    }
   ],
   "source": [
    "arr=np.arange(12) # arange means create an array with a range of values\n",
    "print(\"arange array:\", arr)\n",
    "reshaped = arr.reshape((3,4)) # reshape means change the shape of the array\n",
    "print(\"\\nreshaped array:\\n\", reshaped)\n",
    "\n",
    "\n",
    "flattened = reshaped.flatten() # flatten means convert the 2D array into 1D array\n",
    "print(\"\\nflattened array:\\n\", flattened)\n",
    "\n",
    "\n",
    "#ravel(return view , instaned of copy)\n",
    "raveled=reshaped.ravel() # ravel means convert the 2D array into 1D array\n",
    "print(\"\\nraveled array:\\n\", raveled)\n",
    "\n",
    "\n",
    "# Transpose\n",
    "transpose=reshaped.T # transpose means change the rows into columns and columns into rows\n",
    "print(\"transpose array:\\n\", transpose)"
   ]
  }
 ],
 "metadata": {
  "kernelspec": {
   "display_name": "venv",
   "language": "python",
   "name": "python3"
  },
  "language_info": {
   "codemirror_mode": {
    "name": "ipython",
    "version": 3
   },
   "file_extension": ".py",
   "mimetype": "text/x-python",
   "name": "python",
   "nbconvert_exporter": "python",
   "pygments_lexer": "ipython3",
   "version": "3.12.1"
  }
 },
 "nbformat": 4,
 "nbformat_minor": 5
}
