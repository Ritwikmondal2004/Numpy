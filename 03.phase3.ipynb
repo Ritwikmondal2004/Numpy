{
 "cells": [
  {
   "cell_type": "code",
   "execution_count": 34,
   "id": "294b8e9c",
   "metadata": {},
   "outputs": [],
   "source": [
    "import numpy as np"
   ]
  },
  {
   "cell_type": "markdown",
   "id": "c4bc82ff",
   "metadata": {},
   "source": [
    "Advance operation with Business examples"
   ]
  },
  {
   "cell_type": "code",
   "execution_count": null,
   "id": "6f7ec21b",
   "metadata": {},
   "outputs": [
    {
     "name": "stdout",
     "output_type": "stream",
     "text": [
      "==== Zomato sales analysis ==== \n",
      "\n",
      " Sales data shape (5, 5)\n",
      "\n",
      " Sample data for 1st 3 resturent:  [[     1 150000 180000 220000 250000]\n",
      " [     2 120000 140000 160000 190000]\n",
      " [     3 200000 230000 260000 300000]]\n",
      "\n",
      " Sample data for 1st 3 resturent:  [[150000 180000 220000 250000]\n",
      " [120000 140000 160000 190000]\n",
      " [200000 230000 260000 300000]\n",
      " [180000 210000 240000 270000]\n",
      " [160000 185000 205000 230000]]\n"
     ]
    }
   ],
   "source": [
    "# Data structure: [restaurant_id, 2021, 2022, 2023, 2024]\n",
    "sales_data = np.array([\n",
    "    [1, 150000, 180000, 220000, 250000],  # Paradise Biryani\n",
    "    [2, 120000, 140000, 160000, 190000],  # Beijing Bites\n",
    "    [3, 200000, 230000, 260000, 300000],  # Pizza Hub\n",
    "    [4, 180000, 210000, 240000, 270000],  # Burger Point\n",
    "    [5, 160000, 185000, 205000, 230000]   # Chai Point\n",
    "])\n",
    "\n",
    "print(\"==== Zomato sales analysis ==== \")\n",
    "print(\"\\n Sales data shape\", sales_data.shape)\n",
    "print(\"\\n Sample data for 1st 3 resturent: \", sales_data[:3])\n",
    "print(\"\\n Sample data for 1st 3 resturent: \", sales_data[:,1:])"
   ]
  },
  {
   "cell_type": "code",
   "execution_count": 36,
   "id": "a30d8f18",
   "metadata": {},
   "outputs": [
    {
     "name": "stdout",
     "output_type": "stream",
     "text": [
      "[     15  810000  945000 1085000 1240000]\n",
      "\n",
      " Yearly total sales:  [ 810000  945000 1085000 1240000]\n",
      "\n",
      " Minimum sales per resturent: [150000 120000 200000 180000 160000]\n"
     ]
    }
   ],
   "source": [
    "## total sale\n",
    "\n",
    "print(np.sum(sales_data,axis=0))\n",
    "\n",
    "yearly_total=np.sum(sales_data[:,1:],axis=0)\n",
    "print(\"\\n Yearly total sales: \", yearly_total)\n",
    "\n",
    "## Minimum sales per resturent\n",
    "min_sales=np.min(sales_data[:,1:],axis=1)\n",
    "print(\"\\n Minimum sales per resturent:\", min_sales)\n",
    "\n"
   ]
  },
  {
   "cell_type": "markdown",
   "id": "3df58a39",
   "metadata": {},
   "source": [
    "## practice"
   ]
  },
  {
   "cell_type": "code",
   "execution_count": 37,
   "id": "b8bd19e8",
   "metadata": {},
   "outputs": [
    {
     "name": "stdout",
     "output_type": "stream",
     "text": [
      "\n",
      " Maximum sales per year: [250000 190000 300000 270000 230000]\n",
      "\n",
      " Average sales per resturent: [200000. 152500. 247500. 225000. 195000.]\n",
      "\n",
      " Cumulative sum of sales per resturent: [[150000 330000 550000 800000]\n",
      " [120000 260000 420000 610000]\n",
      " [200000 430000 690000 990000]\n",
      " [180000 390000 630000 900000]\n",
      " [160000 345000 550000 780000]]\n"
     ]
    }
   ],
   "source": [
    "#max seale per years\n",
    "\n",
    "max_sales=np.max(sales_data[:,1:],axis=1)\n",
    "print(\"\\n Maximum sales per year:\", max_sales)\n",
    "\n",
    "## Average sales per resturent\n",
    "\n",
    "avg_sales=np.mean(sales_data[:,1:],axis=1) ## top to bottom axis=0,left to right axis=1\n",
    "print(\"\\n Average sales per resturent:\", avg_sales)\n",
    "\n",
    "\n",
    "cumsum=np.cumsum(sales_data[:,1:],axis=1)\n",
    "print(\"\\n Cumulative sum of sales per resturent:\", cumsum)\n"
   ]
  }
 ],
 "metadata": {
  "kernelspec": {
   "display_name": "venv",
   "language": "python",
   "name": "python3"
  },
  "language_info": {
   "codemirror_mode": {
    "name": "ipython",
    "version": 3
   },
   "file_extension": ".py",
   "mimetype": "text/x-python",
   "name": "python",
   "nbconvert_exporter": "python",
   "pygments_lexer": "ipython3",
   "version": "3.12.1"
  }
 },
 "nbformat": 4,
 "nbformat_minor": 5
}
