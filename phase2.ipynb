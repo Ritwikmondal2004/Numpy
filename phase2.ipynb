{
 "cells": [
  {
   "cell_type": "markdown",
   "id": "cf01cc67",
   "metadata": {},
   "source": [
    "### Numpy Array opearations"
   ]
  },
  {
   "cell_type": "code",
   "execution_count": 2,
   "id": "3b9a7b98",
   "metadata": {},
   "outputs": [],
   "source": [
    "import numpy as np"
   ]
  },
  {
   "cell_type": "code",
   "execution_count": 8,
   "id": "b77f4cb3",
   "metadata": {},
   "outputs": [
    {
     "name": "stdout",
     "output_type": "stream",
     "text": [
      "Basic slicing [3 4 5 6 7]\n",
      "with step [3 5 7]\n",
      "nagetive indexing 8\n"
     ]
    }
   ],
   "source": [
    "arr=np.array([1,2,3,4,5,6,7,8,9,10])\n",
    "print(\"Basic slicing\",arr[2:7])\n",
    "print(\"with step\",arr[2:8:2]) # start:stop:step\n",
    "print(\"nagetive indexing\",arr[-3])# iterate in backward direction"
   ]
  },
  {
   "cell_type": "code",
   "execution_count": 15,
   "id": "dcf6a56e",
   "metadata": {},
   "outputs": [
    {
     "name": "stdout",
     "output_type": "stream",
     "text": [
      "specify element 6\n",
      "Entire row:  [4 5 6]\n",
      "Entire column:  [2 5 8]\n"
     ]
    }
   ],
   "source": [
    "arr_2d=np.array([[1,2,3],[4,5,6],[7,8,9]])\n",
    "print(\"specify element\",arr_2d[1,2]) # 2nd row and 3rd column\n",
    "print(\"Entire row: \",arr_2d[1])# 2nd row\n",
    "print(\"Entire column: \",arr_2d[:,1])# 2nd column targeting all rows"
   ]
  },
  {
   "cell_type": "markdown",
   "id": "9ea99906",
   "metadata": {},
   "source": [
    "Sorting"
   ]
  },
  {
   "cell_type": "code",
   "execution_count": 11,
   "id": "d38667e6",
   "metadata": {},
   "outputs": [
    {
     "name": "stdout",
     "output_type": "stream",
     "text": [
      "sorted array [1 1 2 3 4 5 6 9]\n",
      "sorte the : \n",
      " [[ 2  3 44]\n",
      " [ 6 22 77]\n",
      " [ 2  7 65]]\n",
      "sorted array by collumn \n",
      " [[ 2 22  2]\n",
      " [ 3 44  6]\n",
      " [77 65  7]]\n",
      "sort the array by row: \n",
      " [[ 2  3 44]\n",
      " [ 6 22 77]\n",
      " [ 2  7 65]]\n"
     ]
    }
   ],
   "source": [
    "unsorted =np.array([3,1,4,1,5,9,2,6])\n",
    "print(\"sorted array\",np.sort(unsorted)) # sort the array\n",
    "\n",
    "\n",
    "arr_2d=np.array([[3,44,2],[77,22,6],[2,65,7]])\n",
    "print(\"sorte the : \\n\",np.sort(arr_2d)) # sort the array\n",
    "print(\"sorted array by collumn \\n\",np.sort(arr_2d,axis=0)) # sort the array by column\n",
    "print(\"sort the array by row: \\n\",np.sort(arr_2d,axis=1)) # sort the array by row"
   ]
  },
  {
   "cell_type": "markdown",
   "id": "e8684868",
   "metadata": {},
   "source": [
    "## Filter"
   ]
  },
  {
   "cell_type": "code",
   "execution_count": 12,
   "id": "6ccec074",
   "metadata": {},
   "outputs": [
    {
     "name": "stdout",
     "output_type": "stream",
     "text": [
      "even number:  [ 2  4  6  8 10]\n"
     ]
    }
   ],
   "source": [
    "number=np.array([1,2,3,4,5,6,7,8,9,10])\n",
    "even_number=number[number%2==0] # filter the even number\n",
    "print(\"even number: \",even_number)"
   ]
  },
  {
   "cell_type": "markdown",
   "id": "3022da51",
   "metadata": {},
   "source": [
    "### Filter with mask"
   ]
  },
  {
   "cell_type": "code",
   "execution_count": 13,
   "id": "af2bc5ac",
   "metadata": {},
   "outputs": [
    {
     "name": "stdout",
     "output_type": "stream",
     "text": [
      "Number greter than 5: [ 6  7  8  9 10]\n"
     ]
    }
   ],
   "source": [
    "mask = number>5\n",
    "print(\"Number greter than 5:\",number[mask]) # filter the number greater than 5\n"
   ]
  },
  {
   "cell_type": "markdown",
   "id": "8e4448a9",
   "metadata": {},
   "source": [
    "## Fancy indexing vs np.where()"
   ]
  },
  {
   "cell_type": "code",
   "execution_count": 19,
   "id": "b9ca3072",
   "metadata": {},
   "outputs": [
    {
     "name": "stdout",
     "output_type": "stream",
     "text": [
      "[1 3 5]\n",
      "where result:  (array([5, 6, 7, 8, 9]),)\n",
      "where result:  [ 6  7  8  9 10]\n"
     ]
    }
   ],
   "source": [
    "indices=[0,2,4]\n",
    "print(number[indices]) # filter the number by index\n",
    "where_result=np.where(number>5)\n",
    "print(\"where result: \",where_result) # store only array element\n",
    "print(\"where result: \",number[where_result]) # filter the number greater than 5"
   ]
  },
  {
   "cell_type": "code",
   "execution_count": 25,
   "id": "01e22822",
   "metadata": {},
   "outputs": [
    {
     "name": "stdout",
     "output_type": "stream",
     "text": [
      "['False' 'False' 'False' 'False' 'False' 'true' 'true' 'true' 'true'\n",
      " 'true']\n"
     ]
    }
   ],
   "source": [
    "condition_array = np.where(number > 5,\"true\",\"False\")\n",
    "print(condition_array)"
   ]
  },
  {
   "cell_type": "markdown",
   "id": "b338dbc9",
   "metadata": {},
   "source": [
    "# sumary of upper code\n"
   ]
  },
  {
   "cell_type": "code",
   "execution_count": null,
   "id": "777939ad",
   "metadata": {},
   "outputs": [
    {
     "ename": "SyntaxError",
     "evalue": "expected ':' (832844870.py, line 1)",
     "output_type": "error",
     "traceback": [
      "  \u001b[36mCell\u001b[39m\u001b[36m \u001b[39m\u001b[32mIn[24]\u001b[39m\u001b[32m, line 1\u001b[39m\n\u001b[31m    \u001b[39m\u001b[31mif(number>5)\u001b[39m\n                ^\n\u001b[31mSyntaxError\u001b[39m\u001b[31m:\u001b[39m expected ':'\n"
     ]
    }
   ],
   "source": [
    "if(number>5){\n",
    "    number*4\n",
    "}\n",
    "else{\n",
    "    number\n",
    "}"
   ]
  },
  {
   "cell_type": "markdown",
   "id": "43d424bc",
   "metadata": {},
   "source": [
    "Adding and removing data"
   ]
  },
  {
   "cell_type": "code",
   "execution_count": null,
   "id": "536cc101",
   "metadata": {},
   "outputs": [
    {
     "name": "stdout",
     "output_type": "stream",
     "text": [
      "add of two array:  [1 2 3 4 5 6]\n"
     ]
    }
   ],
   "source": [
    "arr1=np.array([1,2,3])\n",
    "arr2=np.array([4,5,6])\n",
    "combine=np.concatenate((arr1,arr2))\n",
    "print(\"add of two array: \",combine)\n",
    "\n",
    "\n",
    "## removing\n",
    "\n"
   ]
  },
  {
   "cell_type": "markdown",
   "metadata": {},
   "source": [
    "Array Compatibilty"
   ]
  },
  {
   "cell_type": "code",
   "execution_count": 5,
   "id": "421635e7",
   "metadata": {},
   "outputs": [
    {
     "name": "stdout",
     "output_type": "stream",
     "text": [
      "Compatibility shape True\n"
     ]
    }
   ],
   "source": [
    "a=np.array([1,2,3])\n",
    "b=np.array([4,5,6])\n",
    "c=np.array([7,8,9])\n",
    "\n",
    "print(\"Compatibility shape\",a.shape==b.shape) ##Reshaping an array changes its structure (e.g., rows and columns) without altering its data, ensuring the total elements remain the same."
   ]
  },
  {
   "cell_type": "code",
   "execution_count": null,
   "id": "355467a4",
   "metadata": {},
   "outputs": [
    {
     "name": "stdout",
     "output_type": "stream",
     "text": [
      "original array: \n",
      " [[1 2 3]\n",
      " [4 5 6]\n",
      " [7 8 9]]\n",
      "Add new row: \n",
      " [[1 2 3]\n",
      " [4 5 6]\n",
      " [7 8 9]\n",
      " [5 6 7]]\n",
      "with new colum: \n",
      " [[1 2 3 7]\n",
      " [4 5 6 8]\n",
      " [7 8 9 9]]\n"
     ]
    }
   ],
   "source": [
    "original = np.array([[1,2,3],[4,5,6],[7,8,9]])\n",
    "new_row=np.array([5,6,7])  # Ensure the new row has the same number of elements as the columns in 'original'\n",
    "\n",
    "with_new_row=np.vstack((original,new_row))\n",
    "print(\"original array: \\n\",original) # original array\n",
    "print(\"Add new row: \\n\",with_new_row) # add new row\n",
    "\n",
    "new_col=np.array([[7],[8],[9]])  # Ensure the new column has the same number of rows as 'original'\n",
    "with_new_col=np.hstack((original,new_col))\n",
    "print(\"with new colum: \\n\",with_new_col) # add new column\n"
   ]
  },
  {
   "cell_type": "markdown",
   "id": "0cedf2a0",
   "metadata": {},
   "source": [
    "Delete Array"
   ]
  },
  {
   "cell_type": "code",
   "execution_count": 13,
   "id": "a92362fd",
   "metadata": {},
   "outputs": [
    {
     "name": "stdout",
     "output_type": "stream",
     "text": [
      "delete the element:  [1 2 4 5]\n"
     ]
    }
   ],
   "source": [
    "arr=np.array([1,2,3,4,5])\n",
    "delete=np.delete(arr,2) # delete the element at index 2\n",
    "print(\"delete the element: \",delete) # delete the element at index 2"
   ]
  }
 ],
 "metadata": {
  "kernelspec": {
   "display_name": "venv",
   "language": "python",
   "name": "python3"
  },
  "language_info": {
   "codemirror_mode": {
    "name": "ipython",
    "version": 3
   },
   "file_extension": ".py",
   "mimetype": "text/x-python",
   "name": "python",
   "nbconvert_exporter": "python",
   "pygments_lexer": "ipython3",
   "version": "3.12.1"
  }
 },
 "nbformat": 4,
 "nbformat_minor": 5
}
