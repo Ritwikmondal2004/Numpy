{
 "cells": [
  {
   "cell_type": "markdown",
   "id": "cf01cc67",
   "metadata": {},
   "source": [
    "### Numpy Array opearations"
   ]
  },
  {
   "cell_type": "code",
   "execution_count": 1,
   "id": "3b9a7b98",
   "metadata": {},
   "outputs": [],
   "source": [
    "import numpy as np"
   ]
  },
  {
   "cell_type": "code",
   "execution_count": 8,
   "id": "b77f4cb3",
   "metadata": {},
   "outputs": [
    {
     "name": "stdout",
     "output_type": "stream",
     "text": [
      "Basic slicing [3 4 5 6 7]\n",
      "with step [3 5 7]\n",
      "nagetive indexing 8\n"
     ]
    }
   ],
   "source": [
    "arr=np.array([1,2,3,4,5,6,7,8,9,10])\n",
    "print(\"Basic slicing\",arr[2:7])\n",
    "print(\"with step\",arr[2:8:2]) # start:stop:step\n",
    "print(\"nagetive indexing\",arr[-3])# iterate in backward direction"
   ]
  },
  {
   "cell_type": "code",
   "execution_count": 13,
   "id": "dcf6a56e",
   "metadata": {},
   "outputs": [
    {
     "name": "stdout",
     "output_type": "stream",
     "text": [
      "specify element 6\n",
      "Entire row:  [4 5 6]\n",
      "Entire column:  [2 5 8]\n"
     ]
    }
   ],
   "source": [
    "arr_2d=np.array([[1,2,3],[4,5,6],[7,8,9]])\n",
    "print(\"specify element\",arr_2d[1,2]) # 2nd row and 3rd column\n",
    "print(\"Entire row: \",arr_2d[1])# 2nd row\n",
    "print(\"Entire column: \",arr_2d[:,1])# 2nd column targeting all rows"
   ]
  }
 ],
 "metadata": {
  "kernelspec": {
   "display_name": "venv",
   "language": "python",
   "name": "python3"
  },
  "language_info": {
   "codemirror_mode": {
    "name": "ipython",
    "version": 3
   },
   "file_extension": ".py",
   "mimetype": "text/x-python",
   "name": "python",
   "nbconvert_exporter": "python",
   "pygments_lexer": "ipython3",
   "version": "3.12.1"
  }
 },
 "nbformat": 4,
 "nbformat_minor": 5
}
