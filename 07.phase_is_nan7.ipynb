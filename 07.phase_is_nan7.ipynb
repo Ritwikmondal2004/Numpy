{
 "cells": [
  {
   "cell_type": "code",
   "execution_count": 6,
   "id": "ac9e1d79",
   "metadata": {},
   "outputs": [],
   "source": [
    "import numpy as np"
   ]
  },
  {
   "cell_type": "markdown",
   "id": "a31c3b35",
   "metadata": {},
   "source": [
    "## Isnan py"
   ]
  },
  {
   "cell_type": "code",
   "execution_count": 7,
   "id": "3a198ac2",
   "metadata": {},
   "outputs": [
    {
     "name": "stdout",
     "output_type": "stream",
     "text": [
      "[False False  True False  True False]\n",
      "False\n"
     ]
    }
   ],
   "source": [
    "array=np.array([1,2,np.nan, 4,np.nan,5])\n",
    "\n",
    "print(np.isnan(array))\n",
    "\n",
    "\n",
    "print(np.nan==np.nan)"
   ]
  },
  {
   "cell_type": "markdown",
   "id": "651ea617",
   "metadata": {},
   "source": [
    "## isnanto num"
   ]
  },
  {
   "cell_type": "code",
   "execution_count": 8,
   "id": "7e02a82e",
   "metadata": {},
   "outputs": [
    {
     "name": "stdout",
     "output_type": "stream",
     "text": [
      "add 100:  [  1.   2. 100.   4. 100.   5.]\n",
      "without add any number:  [1. 2. 0. 4. 0. 5.]\n"
     ]
    }
   ],
   "source": [
    "array=np.array([1,2,np.nan, 4,np.nan,5])\n",
    "\n",
    "cleaned_arr=np.nan_to_num(array,nan=100)\n",
    "cleaned=np.nan_to_num(array)\n",
    "\n",
    "\n",
    "print(\"add 100: \",cleaned_arr)\n",
    "print(\"without add any number: \",cleaned)\n"
   ]
  },
  {
   "cell_type": "markdown",
   "id": "8d5d964d",
   "metadata": {},
   "source": [
    "## infinity number"
   ]
  },
  {
   "cell_type": "code",
   "execution_count": 11,
   "id": "85f6e464",
   "metadata": {},
   "outputs": [
    {
     "name": "stdout",
     "output_type": "stream",
     "text": [
      "[False False  True False  True False]\n",
      "[    1.     2.  1000.     4. -1000.     6.]\n"
     ]
    }
   ],
   "source": [
    "arr=np.array([1,2,np.inf,4,-np.inf,6])\n",
    "\n",
    "print(np.isinf(arr))\n",
    "\n",
    "cleaned_arr=np.nan_to_num(arr,posinf=1000,neginf=-1000)\n",
    "\n",
    "print(cleaned_arr)"
   ]
  }
 ],
 "metadata": {
  "kernelspec": {
   "display_name": "venv",
   "language": "python",
   "name": "python3"
  },
  "language_info": {
   "codemirror_mode": {
    "name": "ipython",
    "version": 3
   },
   "file_extension": ".py",
   "mimetype": "text/x-python",
   "name": "python",
   "nbconvert_exporter": "python",
   "pygments_lexer": "ipython3",
   "version": "3.12.1"
  }
 },
 "nbformat": 4,
 "nbformat_minor": 5
}
